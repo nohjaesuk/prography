{
  "nbformat": 4,
  "nbformat_minor": 0,
  "metadata": {
    "colab": {
      "name": "linear regression.ipynb",
      "version": "0.3.2",
      "provenance": [],
      "collapsed_sections": []
    },
    "kernelspec": {
      "name": "python3",
      "display_name": "Python 3"
    }
  },
  "cells": [
    {
      "cell_type": "markdown",
      "metadata": {
        "id": "view-in-github",
        "colab_type": "text"
      },
      "source": [
        "[View in Colaboratory](https://colab.research.google.com/github/nohjaesuk/prography/blob/master/linear_regression.ipynb)"
      ]
    },
    {
      "metadata": {
        "id": "FlXR4Brof4F0",
        "colab_type": "code",
        "colab": {}
      },
      "cell_type": "code",
      "source": [
        "import tensorflow as tf\n",
        "import matplotlib.pyplot as plt"
      ],
      "execution_count": 0,
      "outputs": []
    },
    {
      "metadata": {
        "id": "StAkecnigHD0",
        "colab_type": "code",
        "colab": {
          "base_uri": "https://localhost:8080/",
          "height": 231
        },
        "outputId": "49ffe481-fa6a-4bb9-b127-fa1fabdf0000"
      },
      "cell_type": "code",
      "source": [
        "x_data = [1,2,3]\n",
        "y_data = [1,2,3]\n",
        "\n",
        "\n",
        "X = tf.placeholder(tf.float32, shape=(3,))\n",
        "Y = tf.placeholder(tf.float32, shape=(3,))\n",
        "W = tf.Variable(tf.random_normal([1], seed=0), name='weight')\n",
        "H = X * W\n",
        "\n",
        "X2 = tf.placeholder(tf.float32, shape=(3,))\n",
        "Y2 = tf.placeholder(tf.float32, shape=(3,))\n",
        "W2 = tf.Variable(tf.random_normal([1], seed=0), name='weight2')\n",
        "H2 = X2 * W2\n",
        "\n",
        "X3 = tf.placeholder(tf.float32, shape=(3,))\n",
        "Y3 = tf.placeholder(tf.float32, shape=(3,))\n",
        "W3 = tf.Variable(tf.random_normal([1], seed=0), name='weight3')\n",
        "H3 = X3 * W3\n",
        "\n",
        "learning_rate = 0.1\n",
        "cost = tf.reduce_mean(tf.square(H-Y))\n",
        "gradient = tf.reduce_mean((H-Y)*X)\n",
        "descent = W - learning_rate*gradient\n",
        "update = W.assign(descent)\n",
        "\n",
        "cost2 = tf.reduce_mean(tf.square(H2-Y2))\n",
        "cost3 = tf.reduce_mean(tf.square(H3-Y3))\n",
        "\n",
        "train1 = tf.train.GradientDescentOptimizer(learning_rate).minimize(cost2)\n",
        "train2 = tf.train.AdamOptimizer(learning_rate).minimize(cost3)\n",
        "\n",
        "\n",
        "with tf.Session() as sess:\n",
        "  sess.run(tf.global_variables_initializer())\n",
        "  for step in range(300):\n",
        "    curr_cost, _ = sess.run([cost,update], feed_dict={X:x_data, Y:y_data})\n",
        "    _, cost2_eval, W2_eval = sess.run([train1, cost2, W2], feed_dict={X2:x_data, Y2:y_data})\n",
        "    _, cost3_eval, W3_eval = sess.run([train2, cost3, W3], feed_dict={X3:x_data, Y3:y_data})\n",
        "    print(step, '\\t', curr_cost, '\\t', W.eval(), '\\t', cost2_eval, '\\t', W2_eval, '\\t', cost3_eval, '\\t', W3_eval)\n"
      ],
      "execution_count": 1,
      "outputs": [
        {
          "output_type": "error",
          "ename": "NameError",
          "evalue": "ignored",
          "traceback": [
            "\u001b[0;31m---------------------------------------------------------------------------\u001b[0m",
            "\u001b[0;31mNameError\u001b[0m                                 Traceback (most recent call last)",
            "\u001b[0;32m<ipython-input-1-70d5e7692e63>\u001b[0m in \u001b[0;36m<module>\u001b[0;34m()\u001b[0m\n\u001b[1;32m      3\u001b[0m \u001b[0;34m\u001b[0m\u001b[0m\n\u001b[1;32m      4\u001b[0m \u001b[0;34m\u001b[0m\u001b[0m\n\u001b[0;32m----> 5\u001b[0;31m \u001b[0mX\u001b[0m \u001b[0;34m=\u001b[0m \u001b[0mtf\u001b[0m\u001b[0;34m.\u001b[0m\u001b[0mplaceholder\u001b[0m\u001b[0;34m(\u001b[0m\u001b[0mtf\u001b[0m\u001b[0;34m.\u001b[0m\u001b[0mfloat32\u001b[0m\u001b[0;34m,\u001b[0m \u001b[0mshape\u001b[0m\u001b[0;34m=\u001b[0m\u001b[0;34m(\u001b[0m\u001b[0;36m3\u001b[0m\u001b[0;34m,\u001b[0m\u001b[0;34m)\u001b[0m\u001b[0;34m)\u001b[0m\u001b[0;34m\u001b[0m\u001b[0m\n\u001b[0m\u001b[1;32m      6\u001b[0m \u001b[0mY\u001b[0m \u001b[0;34m=\u001b[0m \u001b[0mtf\u001b[0m\u001b[0;34m.\u001b[0m\u001b[0mplaceholder\u001b[0m\u001b[0;34m(\u001b[0m\u001b[0mtf\u001b[0m\u001b[0;34m.\u001b[0m\u001b[0mfloat32\u001b[0m\u001b[0;34m,\u001b[0m \u001b[0mshape\u001b[0m\u001b[0;34m=\u001b[0m\u001b[0;34m(\u001b[0m\u001b[0;36m3\u001b[0m\u001b[0;34m,\u001b[0m\u001b[0;34m)\u001b[0m\u001b[0;34m)\u001b[0m\u001b[0;34m\u001b[0m\u001b[0m\n\u001b[1;32m      7\u001b[0m \u001b[0mW\u001b[0m \u001b[0;34m=\u001b[0m \u001b[0mtf\u001b[0m\u001b[0;34m.\u001b[0m\u001b[0mVariable\u001b[0m\u001b[0;34m(\u001b[0m\u001b[0mtf\u001b[0m\u001b[0;34m.\u001b[0m\u001b[0mrandom_normal\u001b[0m\u001b[0;34m(\u001b[0m\u001b[0;34m[\u001b[0m\u001b[0;36m1\u001b[0m\u001b[0;34m]\u001b[0m\u001b[0;34m,\u001b[0m \u001b[0mseed\u001b[0m\u001b[0;34m=\u001b[0m\u001b[0;36m0\u001b[0m\u001b[0;34m)\u001b[0m\u001b[0;34m,\u001b[0m \u001b[0mname\u001b[0m\u001b[0;34m=\u001b[0m\u001b[0;34m'weight'\u001b[0m\u001b[0;34m)\u001b[0m\u001b[0;34m\u001b[0m\u001b[0m\n",
            "\u001b[0;31mNameError\u001b[0m: name 'tf' is not defined"
          ]
        }
      ]
    },
    {
      "metadata": {
        "id": "LMo2ItVKtbRz",
        "colab_type": "code",
        "colab": {}
      },
      "cell_type": "code",
      "source": [
        ""
      ],
      "execution_count": 0,
      "outputs": []
    }
  ]
}